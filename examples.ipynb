{
 "cells": [
  {
   "cell_type": "code",
   "execution_count": 1,
   "metadata": {},
   "outputs": [
    {
     "name": "stderr",
     "output_type": "stream",
     "text": [
      "Using TensorFlow backend.\n"
     ]
    }
   ],
   "source": [
    "from generator.rnn import LSTMGenerator\n",
    "from dataset.loader import load_author"
   ]
  },
  {
   "cell_type": "code",
   "execution_count": 5,
   "metadata": {},
   "outputs": [
    {
     "name": "stdout",
     "output_type": "stream",
     "text": [
      " si  zie wie wie tiene \n",
      "oee wiz nie paz woeza \n",
      "ne  za więye  razaś wi coe zas mie weeoej \n",
      "aoe  wie wi  wie  oie moe nas wienaaz \n",
      "a  i żami  zi na nab waz wieke \n",
      "pie  oez wie zał wam wae wie nas wał mae wałeec \n",
      "oie  nid waz wie zas noe waeoee\n",
      "\n",
      "oez sa  zie nas woeee nas pie zizee\n",
      "\n",
      "oae  a sie wiz n saecw mas waz mas zamieno \n",
      "a sa nic zarie zoz oiz sae wiene \n",
      "o do piz ni ziz zie rie nas wae waeoe \n",
      "le  wi ni  zae bie wae wae wie wasee\n",
      "\n",
      "w pae wi nie zaso sieze \n",
      "lie saz wie moed nae waz mas wasne\n",
      "\n",
      "z paza nię nie wasde zaeow \n",
      "p poe miz ni sae wis wieoee \n",
      "oa  ni zię nycz  i so mie ziedw zas wae wieee \n",
      "zek wae soeze  ziez zie nas wae waeo \n",
      "oee nar mae nas nas mas bas wasie\n",
      "\n",
      "iez  ni di  w  o się wie wae mie waziwe\n",
      "\n",
      "wie  r mie nie uae woezi \n",
      "wee  pi  w zoęyi nie zikew \n",
      "o eoe waziw nio waeoe  oe  za  oi  zieo  o sae wae wasoece sasie\n",
      "\n",
      "zea ni do sar tas nae wis noe pam woezec\n",
      "\n",
      "weee  o zizcz  o koe nis wae wam was was noewi.\n",
      "\n",
      "lez ki saę śyecz noo pas waezeć sie zame  oe  eiż  oi zoeen koe pamzem \n",
      "ai \n"
     ]
    }
   ],
   "source": [
    "treny = list(load_author('kochanowski', ['treny']).values())\n",
    "lstm = LSTMGenerator()\n",
    "# lstm.fit(treny)\n",
    "print(lstm.generate(\"hue\", model_name=\"trener.hdf5\", data=treny))"
   ]
  }
 ],
 "metadata": {
  "kernelspec": {
   "display_name": "Python [Root]",
   "language": "python",
   "name": "Python [Root]"
  },
  "language_info": {
   "codemirror_mode": {
    "name": "ipython",
    "version": 3
   },
   "file_extension": ".py",
   "mimetype": "text/x-python",
   "name": "python",
   "nbconvert_exporter": "python",
   "pygments_lexer": "ipython3",
   "version": "3.5.3"
  }
 },
 "nbformat": 4,
 "nbformat_minor": 2
}
